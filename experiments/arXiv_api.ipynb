{
 "cells": [
  {
   "cell_type": "code",
   "execution_count": null,
   "id": "db304014",
   "metadata": {},
   "outputs": [
    {
     "ename": "",
     "evalue": "",
     "output_type": "error",
     "traceback": [
      "\u001b[1;31mRunning cells with '.venv (Python 3.12.10)' requires the ipykernel package.\n",
      "\u001b[1;31mInstall 'ipykernel' into the Python environment. \n",
      "\u001b[1;31mCommand: '/Users/mori/dev/paper-to-notion/.venv/bin/python -m pip install ipykernel -U --force-reinstall'"
     ]
    }
   ],
   "source": [
    "import requests\n",
    "\n",
    "base_url = \"http://export.arxiv.org/api/query\"\n",
    "params = {\n",
    "    \"search_query\": 'ti:\"language model\" AND abs:\"distillation\"',\n",
    "    \"sortBy\": \"submittedDate\",\n",
    "    \"sortOrder\": \"descending\",\n",
    "    \"max_results\": 5\n",
    "}\n",
    "\n",
    "response = requests.get(base_url, params=params)\n",
    "print(response.text)  # XMLレスポンス\n"
   ]
  }
 ],
 "metadata": {
  "kernelspec": {
   "display_name": ".venv",
   "language": "python",
   "name": "python3"
  },
  "language_info": {
   "name": "python",
   "version": "3.12.10"
  }
 },
 "nbformat": 4,
 "nbformat_minor": 5
}
