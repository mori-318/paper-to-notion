{
 "cells": [
  {
   "cell_type": "code",
   "execution_count": 19,
   "id": "23d51eb4",
   "metadata": {},
   "outputs": [],
   "source": [
    "import requests\n",
    "import os\n",
    "\n",
    "NOTION_API_KEY = os.environ['NOTION_API_KEY']\n",
    "NOTION_DATABASE_ID = os.environ['NOTION_DATABASE_ID']\n",
    "NOTION_TEMPLATE_PAGE_ID = os.environ['NOTION_TEMPLATE_PAGE_ID']"
   ]
  },
  {
   "cell_type": "code",
   "execution_count": 20,
   "id": "5d09cbe8",
   "metadata": {},
   "outputs": [
    {
     "name": "stdout",
     "output_type": "stream",
     "text": [
      "2755fed5-c66a-81be-8090-d96bcf974799\n"
     ]
    }
   ],
   "source": [
    "from notion_client import Client\n",
    "\n",
    "notion = Client(auth=NOTION_API_KEY)\n",
    "\n",
    "new_page = notion.pages.create(\n",
    "    parent={\"database_id\": NOTION_DATABASE_ID},\n",
    "    properties={\n",
    "        \"名前\": {\n",
    "            \"title\": [\n",
    "                {\n",
    "                    \"type\": \"text\",\n",
    "                    \"text\": {\"content\": \"テンプレ複製テスト\"}\n",
    "                }\n",
    "            ]\n",
    "        },\n",
    "        \"Progress\": {\n",
    "            \"status\": {\"name\": \"未読\"}  # ステータス名はDBと一致する必要あり\n",
    "        },\n",
    "    }\n",
    ")\n",
    "print(new_page[\"id\"])  # ← ページID取得"
   ]
  },
  {
   "cell_type": "code",
   "execution_count": 24,
   "id": "6af6c1bb",
   "metadata": {},
   "outputs": [],
   "source": [
    "def create_page():\n",
    "    notion = Client(auth=NOTION_API_KEY)\n",
    "\n",
    "    new_page = notion.pages.create(\n",
    "        parent={\"database_id\": NOTION_DATABASE_ID},\n",
    "        properties={\n",
    "            \"名前\": {\"title\": [{\"text\": {\"content\": \"テスト\"}}]},\n",
    "            \"Progress\": {\"status\": {\"name\": \"未読\"}},\n",
    "            \"Authors\": {\"rich_text\": [{\"text\": {\"content\": \"田中さん\"}}]},\n",
    "            \"Time\": {\"rich_text\": [{\"text\": {\"content\": \"1時\"}}]},\n",
    "            \"URL\": {\"url\": \"https://www.notion.so/2755fed5c66a80cdbad6d9ac47387148\"},\n",
    "        },\n",
    "    )\n",
    "    return new_page[\"id\"]\n",
    "\n",
    "new_page_id = create_page()"
   ]
  }
 ],
 "metadata": {
  "kernelspec": {
   "display_name": ".venv",
   "language": "python",
   "name": "python3"
  },
  "language_info": {
   "codemirror_mode": {
    "name": "ipython",
    "version": 3
   },
   "file_extension": ".py",
   "mimetype": "text/x-python",
   "name": "python",
   "nbconvert_exporter": "python",
   "pygments_lexer": "ipython3",
   "version": "3.12.10"
  }
 },
 "nbformat": 4,
 "nbformat_minor": 5
}
