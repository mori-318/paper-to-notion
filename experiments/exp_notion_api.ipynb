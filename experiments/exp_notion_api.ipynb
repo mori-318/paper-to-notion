{
 "cells": [
  {
   "cell_type": "code",
   "execution_count": null,
   "id": "6af6c1bb",
   "metadata": {},
   "outputs": [
    {
     "data": {
      "text/plain": [
       "{'object': 'error',\n",
       " 'status': 400,\n",
       " 'code': 'validation_error',\n",
       " 'message': 'body failed validation: body.children[2].callout.icon should be an object or `undefined`, instead was `null`.',\n",
       " 'request_id': 'f3c88aae-50b0-4b3a-b667-82258edca055'}"
      ]
     },
     "execution_count": 1,
     "metadata": {},
     "output_type": "execute_result"
    }
   ],
   "source": [
    "import requests\n",
    "import os\n",
    "\n",
    "NOTION_API_KEY = os.environ['NOTION_API_KEY']\n",
    "NOTION_DATABASE_ID = os.environ['NOTION_DATABASE_ID']\n",
    "NOTION_TEMPLATE_PAGE_ID = os.environ['NOTION_TEMPLATE_PAGE_ID']\n",
    "\n",
    "HEADERS = {\n",
    "    \"Notion-Version\": \"2022-06-28\",\n",
    "    \"Authorization\": f\"Bearer {NOTION_API_KEY}\",\n",
    "    \"Content-Type\": \"application/json\"\n",
    "}\n",
    "\n",
    "def get_blocks(page_id):\n",
    "    url = f\"https://api.notion.com/v1/blocks/{page_id}/children\"\n",
    "    res = requests.get(url, headers=HEADERS)\n",
    "    blocks = res.json().get(\"results\", [])\n",
    "    # Notionのchildren階層は1段のみ。必要なら再帰で全階層取得\n",
    "    return blocks\n",
    "\n",
    "def filter_block(block):\n",
    "    # API経由append用に余計なフィールド削除\n",
    "    return {\n",
    "        \"object\": \"block\",\n",
    "        \"type\": block[\"type\"],\n",
    "        block[\"type\"]: block[block[\"type\"]]\n",
    "    }\n",
    "\n",
    "def create_page():\n",
    "    url = \"https://api.notion.com/v1/pages\"\n",
    "    data = {\n",
    "        \"parent\": { \"database_id\": NOTION_DATABASE_ID },\n",
    "        \"properties\": {\n",
    "            \"名前\": {\n",
    "                \"title\": [{\"text\": {\"content\": \"テンプレ複製テスト\"}}]\n",
    "            }\n",
    "            \n",
    "        }\n",
    "    }\n",
    "    res = requests.post(url, headers=HEADERS, json=data)\n",
    "    json_res = res.json()\n",
    "    return json_res[\"id\"]  # 新ページID\n",
    "\n",
    "def append_blocks(page_id, blocks):\n",
    "    url = f\"https://api.notion.com/v1/blocks/{page_id}/children\"\n",
    "    data = { \"children\": [filter_block(b) for b in blocks] }\n",
    "    res = requests.patch(url, headers=HEADERS, json=data)\n",
    "    return res.json()\n",
    "\n",
    "\n",
    "template_blocks = get_blocks(NOTION_TEMPLATE_PAGE_ID)\n",
    "new_page_id = create_page()\n",
    "append_blocks(new_page_id, template_blocks)"
   ]
  }
 ],
 "metadata": {
  "kernelspec": {
   "display_name": ".venv",
   "language": "python",
   "name": "python3"
  },
  "language_info": {
   "codemirror_mode": {
    "name": "ipython",
    "version": 3
   },
   "file_extension": ".py",
   "mimetype": "text/x-python",
   "name": "python",
   "nbconvert_exporter": "python",
   "pygments_lexer": "ipython3",
   "version": "3.12.10"
  }
 },
 "nbformat": 4,
 "nbformat_minor": 5
}
