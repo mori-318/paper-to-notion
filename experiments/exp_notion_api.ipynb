{
 "cells": [
  {
   "cell_type": "code",
   "execution_count": null,
   "id": "305965f8",
   "metadata": {},
   "outputs": [],
   "source": [
    "import requests\n",
    "\n",
    "url = 'https://api.notion.com/v1/pages'\n",
    "headers = {\n",
    "    'Authorization': f'Bearer {NOTION_API_KEY}',\n",
    "    'Notion-Version': '2022-06-28',\n",
    "    'Content-Type': 'application/json',\n",
    "}\n",
    "\n",
    "json_data = {\n",
    "    \"parent\": { \"database_id\": NOTION_DB_ID },\n",
    "    \"properties\": {\n",
    "        # データベースのタイトルプロパティ名で指定\n",
    "        \"名前\": {\n",
    "            \"title\": [\n",
    "                { \"text\": { \"content\": \"APIテスト\" } }\n",
    "            ]\n",
    "        },\n",
    "        # 例：セレクトプロパティ\n",
    "        \"タグ\": {\n",
    "            \"multi_select\": [\n",
    "                { \"name\": \"notion_api\" }\n",
    "            ]\n",
    "        },\n",
    "        \"Progress\": {\n",
    "            \"status\": {\n",
    "                \"name\": \"未読\"\n",
    "            }\n",
    "        },\n",
    "        \"追加日\": {\n",
    "            \"date\": {\n",
    "                \"start\": \"2025-09-20\",\n",
    "                \"end\": None,\n",
    "                \"time_zone\": \"Asia/Tokyo\"\n",
    "            }\n",
    "        }\n",
    "    },\n",
    "} \n",
    "\n",
    "response = requests.post(url, headers=headers, json=json_data)\n",
    "print(response.json())\n"
   ]
  }
 ],
 "metadata": {
  "language_info": {
   "name": "python"
  }
 },
 "nbformat": 4,
 "nbformat_minor": 5
}
